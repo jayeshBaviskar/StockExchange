{
 "cells": [
  {
   "cell_type": "markdown",
   "metadata": {},
   "source": [
    "## Dependencies"
   ]
  },
  {
   "cell_type": "code",
   "execution_count": 33,
   "metadata": {},
   "outputs": [],
   "source": [
    "#pip install bsedata\n",
    "#pip install pyodbc\n",
    "####pip install mysqlclient\n",
    "#pip install mysql-connector-python\n"
   ]
  },
  {
   "cell_type": "code",
   "execution_count": 5,
   "metadata": {},
   "outputs": [
    {
     "name": "stdout",
     "output_type": "stream",
     "text": [
      "Driver Class for Bombay Stock Exchange (BSE)\n"
     ]
    }
   ],
   "source": [
    "from bsedata.bse import BSE\n",
    "b = BSE()\n",
    "print(b)\n",
    "# Output:\n",
    "# Driver Class for Bombay Stock Exchange (BSE)\n",
    "\n",
    "# to execute \"updateScripCodes\" on instantiation\n",
    "b = BSE(update_codes = True)"
   ]
  },
  {
   "cell_type": "code",
   "execution_count": 6,
   "metadata": {},
   "outputs": [],
   "source": [
    "import pprint\n",
    "pp = pprint.PrettyPrinter(indent=4)"
   ]
  },
  {
   "cell_type": "markdown",
   "metadata": {},
   "source": [
    "## Getting a stock quote"
   ]
  },
  {
   "cell_type": "code",
   "execution_count": 7,
   "metadata": {},
   "outputs": [
    {
     "name": "stdout",
     "output_type": "stream",
     "text": [
      "{   '2WeekAvgQuantity': '0.79 Lakh',\n",
      "    '52weekHigh': '1149.90',\n",
      "    '52weekLow': '410.00',\n",
      "    'buy': {   '1': {'price': '0.00', 'quantity': '-'},\n",
      "               '2': {'price': '0.00', 'quantity': '-'},\n",
      "               '3': {'price': '0.00', 'quantity': '-'},\n",
      "               '4': {'price': '0.00', 'quantity': '-'},\n",
      "               '5': {'price': '0.00', 'quantity': '-'}},\n",
      "    'change': '-45.75',\n",
      "    'companyName': 'Thyrocare Technologies Ltd',\n",
      "    'currentValue': '1053.05',\n",
      "    'dayHigh': '1098.15',\n",
      "    'dayLow': '1034.50',\n",
      "    'faceValue': '10.00',\n",
      "    'group': 'A  / S&P BSE 500',\n",
      "    'industry': 'Healthcare Services',\n",
      "    'lowerPriceBand': '',\n",
      "    'marketCapFreeFloat': '2,003.02 Cr.',\n",
      "    'marketCapFull': '5,563.93 Cr.',\n",
      "    'pChange': '-4.16',\n",
      "    'previousClose': '1098.80',\n",
      "    'previousOpen': '1070.05',\n",
      "    'priceBand': '',\n",
      "    'scripCode': '539871',\n",
      "    'securityID': 'THYROCARE',\n",
      "    'sell': {   '1': {'price': '0.00', 'quantity': '-'},\n",
      "                '2': {'price': '0.00', 'quantity': '-'},\n",
      "                '3': {'price': '0.00', 'quantity': '-'},\n",
      "                '4': {'price': '0.00', 'quantity': '-'},\n",
      "                '5': {'price': '0.00', 'quantity': '-'}},\n",
      "    'totalTradedQuantity': '0.11 Lakh',\n",
      "    'totalTradedValue': '1.18 Cr.',\n",
      "    'updatedOn': '14 Oct 20 | 04:00 PM',\n",
      "    'upperPriceBand': '',\n",
      "    'weightedAvgPrice': '1067.00'}\n"
     ]
    }
   ],
   "source": [
    "q = b.getQuote('539871')\n",
    "pp.pprint(q)"
   ]
  },
  {
   "cell_type": "markdown",
   "metadata": {},
   "source": [
    "## Get quotes in bulk"
   ]
  },
  {
   "cell_type": "code",
   "execution_count": 8,
   "metadata": {},
   "outputs": [
    {
     "name": "stdout",
     "output_type": "stream",
     "text": [
      "'IDBI BANK LTD.'\n",
      "'34.50'\n",
      "'14 Oct 20 | 04:00 PM'\n",
      "'AVANTI FEEDS LTD.-$'\n",
      "'510.40'\n",
      "'14 Oct 20 | 04:00 PM'\n"
     ]
    }
   ],
   "source": [
    "codelist = [\"500116\", \"512573\"]\n",
    "for code in codelist:\n",
    "    quote = b.getQuote(code)\n",
    "    pp.pprint(quote[\"companyName\"])\n",
    "    pp.pprint(quote[\"currentValue\"])\n",
    "    pp.pprint(quote[\"updatedOn\"])"
   ]
  },
  {
   "cell_type": "markdown",
   "metadata": {},
   "source": [
    "## Getting top gainers"
   ]
  },
  {
   "cell_type": "code",
   "execution_count": 12,
   "metadata": {},
   "outputs": [
    {
     "name": "stdout",
     "output_type": "stream",
     "text": [
      "dict_keys(['companyName', 'currentValue', 'change', 'pChange', 'updatedOn', 'priceBand', 'securityID', 'scripCode', 'group', 'faceValue', 'industry', 'previousClose', 'previousOpen', 'dayHigh', 'dayLow', '52weekHigh', '52weekLow', 'weightedAvgPrice', 'totalTradedValue', 'totalTradedQuantity', '2WeekAvgQuantity', 'marketCapFull', 'marketCapFreeFloat', 'upperPriceBand', 'lowerPriceBand', 'buy', 'sell'])\n",
      "14 Oct 20 | 04:00 PM\n",
      "dict_keys(['companyName', 'currentValue', 'change', 'pChange', 'updatedOn', 'priceBand', 'securityID', 'scripCode', 'group', 'faceValue', 'industry', 'previousClose', 'previousOpen', 'dayHigh', 'dayLow', '52weekHigh', '52weekLow', 'weightedAvgPrice', 'totalTradedValue', 'totalTradedQuantity', '2WeekAvgQuantity', 'marketCapFull', 'marketCapFreeFloat', 'upperPriceBand', 'lowerPriceBand', 'buy', 'sell'])\n",
      "14 Oct 20 | 04:00 PM\n",
      "dict_keys(['companyName', 'currentValue', 'change', 'pChange', 'updatedOn', 'priceBand', 'securityID', 'scripCode', 'group', 'faceValue', 'industry', 'previousClose', 'previousOpen', 'dayHigh', 'dayLow', '52weekHigh', '52weekLow', 'weightedAvgPrice', 'totalTradedValue', 'totalTradedQuantity', '2WeekAvgQuantity', 'marketCapFull', 'marketCapFreeFloat', 'upperPriceBand', 'lowerPriceBand', 'buy', 'sell'])\n",
      "14 Oct 20 | 04:00 PM\n",
      "dict_keys(['companyName', 'currentValue', 'change', 'pChange', 'updatedOn', 'priceBand', 'securityID', 'scripCode', 'group', 'faceValue', 'industry', 'previousClose', 'previousOpen', 'dayHigh', 'dayLow', '52weekHigh', '52weekLow', 'weightedAvgPrice', 'totalTradedValue', 'totalTradedQuantity', '2WeekAvgQuantity', 'marketCapFull', 'marketCapFreeFloat', 'upperPriceBand', 'lowerPriceBand', 'buy', 'sell'])\n",
      "14 Oct 20 | 04:00 PM\n",
      "dict_keys(['companyName', 'currentValue', 'change', 'pChange', 'updatedOn', 'priceBand', 'securityID', 'scripCode', 'group', 'faceValue', 'industry', 'previousClose', 'previousOpen', 'dayHigh', 'dayLow', '52weekHigh', '52weekLow', 'weightedAvgPrice', 'totalTradedValue', 'totalTradedQuantity', '2WeekAvgQuantity', 'marketCapFull', 'marketCapFreeFloat', 'upperPriceBand', 'lowerPriceBand', 'buy', 'sell'])\n",
      "14 Oct 20 | 04:00 PM\n"
     ]
    }
   ],
   "source": [
    "import mysql.connector\n",
    "\n",
    "mydb = mysql.connector.connect(\n",
    "  host=\"localhost\",\n",
    "  user=\"root\",\n",
    "  password=\"abc123\",\n",
    "  database=\"stockdb\"\n",
    ")\n",
    "\n",
    "mycursor = mydb.cursor()\n",
    "\n",
    "sql = \"INSERT INTO topgainers (CollectionDate, companyName, currentValue, change_val, pChange, updatedOn, securityID, scripCode, group_val, faceValue, industry, previousClose, previousOpen,   dayHigh,  dayLow, 52weekHigh, 52weekLow, weightedAvgPrice, totalTradedValue, totalTradedQuantity, 2WeekAvgQuantity,  marketCapFull, marketCapFreeFloat) VALUES (curdate(), %s, %s, %s, %s, %s, %s, %s, %s, %s, %s, %s, %s, %s, %s, %s, %s, %s, %s, %s, %s, %s, %s)\"\n",
    "\n",
    "tg = b.topGainers()\n",
    "#pp.pprint(tg)\n",
    "\n",
    "for x in tg:\n",
    "    code = x[\"scripCode\"]\n",
    "    quote = b.getQuote(code)\n",
    "    #pp.pprint(quote)\n",
    "    print(quote.keys())\n",
    "    \n",
    "    companyName = quote['companyName']\n",
    "    currentValue = quote['currentValue']\n",
    "    change = quote['change']\n",
    "    pChange= quote['pChange']\n",
    "    updatedOn= quote['updatedOn']\n",
    "    securityID= quote['securityID']\n",
    "    scripCode= quote['scripCode']\n",
    "    group= quote['group']\n",
    "    faceValue= quote['faceValue']\n",
    "    industry= quote['industry']\n",
    "    previousClose= quote['previousClose']\n",
    "    previousOpen= quote['previousOpen']\n",
    "    dayHigh= quote['dayHigh']\n",
    "    dayLow= quote['dayLow']\n",
    "    weekHigh52= quote['52weekHigh']\n",
    "    weekLow52= quote['52weekLow']\n",
    "    weightedAvgPrice= quote['weightedAvgPrice']\n",
    "    totalTradedValue= quote['totalTradedValue']\n",
    "    totalTradedQuantity= quote['totalTradedQuantity']\n",
    "    WeekAvgQuantity2= quote['2WeekAvgQuantity']\n",
    "    marketCapFull= quote['marketCapFull']\n",
    "    marketCapFreeFloat= quote['marketCapFreeFloat']\n",
    "    \n",
    "    from DateTimeHelper import ConvertToCorrectDateTime\n",
    "    print(updatedOn)\n",
    "    #print(ConvertToCorrectDateTime(''))\n",
    "    \n",
    "    "
   ]
  },
  {
   "cell_type": "code",
   "execution_count": 15,
   "metadata": {},
   "outputs": [
    {
     "name": "stdout",
     "output_type": "stream",
     "text": [
      "-----------------------------\n"
     ]
    },
    {
     "ename": "DataError",
     "evalue": "1292 (22007): Incorrect datetime value: '14 Oct 20 | 04:00 PM' for column 'updatedOn' at row 1",
     "output_type": "error",
     "traceback": [
      "\u001b[1;31m---------------------------------------------------------------------------\u001b[0m",
      "\u001b[1;31mMySQLInterfaceError\u001b[0m                       Traceback (most recent call last)",
      "\u001b[1;32m~\\AppData\\Local\\Continuum\\anaconda3\\lib\\site-packages\\mysql\\connector\\connection_cext.py\u001b[0m in \u001b[0;36mcmd_query\u001b[1;34m(self, query, raw, buffered, raw_as_string)\u001b[0m\n\u001b[0;32m    488\u001b[0m                                \u001b[0mraw\u001b[0m\u001b[1;33m=\u001b[0m\u001b[0mraw\u001b[0m\u001b[1;33m,\u001b[0m \u001b[0mbuffered\u001b[0m\u001b[1;33m=\u001b[0m\u001b[0mbuffered\u001b[0m\u001b[1;33m,\u001b[0m\u001b[1;33m\u001b[0m\u001b[0m\n\u001b[1;32m--> 489\u001b[1;33m                                raw_as_string=raw_as_string)\n\u001b[0m\u001b[0;32m    490\u001b[0m         \u001b[1;32mexcept\u001b[0m \u001b[0mMySQLInterfaceError\u001b[0m \u001b[1;32mas\u001b[0m \u001b[0mexc\u001b[0m\u001b[1;33m:\u001b[0m\u001b[1;33m\u001b[0m\u001b[0m\n",
      "\u001b[1;31mMySQLInterfaceError\u001b[0m: Incorrect datetime value: '14 Oct 20 | 04:00 PM' for column 'updatedOn' at row 1",
      "\nDuring handling of the above exception, another exception occurred:\n",
      "\u001b[1;31mDataError\u001b[0m                                 Traceback (most recent call last)",
      "\u001b[1;32m<ipython-input-15-a8c33dd2e2f6>\u001b[0m in \u001b[0;36m<module>\u001b[1;34m()\u001b[0m\n\u001b[0;32m      1\u001b[0m \u001b[0mprint\u001b[0m\u001b[1;33m(\u001b[0m\u001b[1;34m'-----------------------------'\u001b[0m\u001b[1;33m)\u001b[0m\u001b[1;33m\u001b[0m\u001b[0m\n\u001b[0;32m      2\u001b[0m \u001b[0mval\u001b[0m \u001b[1;33m=\u001b[0m \u001b[1;33m(\u001b[0m\u001b[0mcompanyName\u001b[0m\u001b[1;33m,\u001b[0m\u001b[0mcurrentValue\u001b[0m\u001b[1;33m,\u001b[0m  \u001b[0mchange\u001b[0m\u001b[1;33m,\u001b[0m \u001b[0mpChange\u001b[0m\u001b[1;33m,\u001b[0m \u001b[0mupdatedOn\u001b[0m\u001b[1;33m,\u001b[0m \u001b[0msecurityID\u001b[0m\u001b[1;33m,\u001b[0m \u001b[0mscripCode\u001b[0m\u001b[1;33m,\u001b[0m \u001b[0mgroup\u001b[0m\u001b[1;33m,\u001b[0m \u001b[0mfaceValue\u001b[0m\u001b[1;33m,\u001b[0m \u001b[0mindustry\u001b[0m\u001b[1;33m,\u001b[0m  \u001b[0mpreviousClose\u001b[0m\u001b[1;33m,\u001b[0m  \u001b[0mpreviousOpen\u001b[0m\u001b[1;33m,\u001b[0m   \u001b[0mdayHigh\u001b[0m\u001b[1;33m,\u001b[0m  \u001b[0mdayLow\u001b[0m\u001b[1;33m,\u001b[0m  \u001b[0mweekHigh52\u001b[0m\u001b[1;33m,\u001b[0m   \u001b[0mweekLow52\u001b[0m\u001b[1;33m,\u001b[0m  \u001b[0mweightedAvgPrice\u001b[0m\u001b[1;33m,\u001b[0m  \u001b[0mtotalTradedValue\u001b[0m\u001b[1;33m,\u001b[0m \u001b[0mtotalTradedQuantity\u001b[0m\u001b[1;33m,\u001b[0m \u001b[0mWeekAvgQuantity2\u001b[0m\u001b[1;33m,\u001b[0m  \u001b[0mmarketCapFull\u001b[0m\u001b[1;33m,\u001b[0m  \u001b[0mmarketCapFreeFloat\u001b[0m\u001b[1;33m)\u001b[0m\u001b[1;33m\u001b[0m\u001b[0m\n\u001b[1;32m----> 3\u001b[1;33m \u001b[0mmycursor\u001b[0m\u001b[1;33m.\u001b[0m\u001b[0mexecute\u001b[0m\u001b[1;33m(\u001b[0m\u001b[0msql\u001b[0m\u001b[1;33m,\u001b[0m \u001b[0mval\u001b[0m\u001b[1;33m)\u001b[0m\u001b[1;33m\u001b[0m\u001b[0m\n\u001b[0m\u001b[0;32m      4\u001b[0m \u001b[0mmydb\u001b[0m\u001b[1;33m.\u001b[0m\u001b[0mcommit\u001b[0m\u001b[1;33m(\u001b[0m\u001b[1;33m)\u001b[0m\u001b[1;33m\u001b[0m\u001b[0m\n\u001b[0;32m      5\u001b[0m \u001b[0mprint\u001b[0m\u001b[1;33m(\u001b[0m\u001b[0mmycursor\u001b[0m\u001b[1;33m.\u001b[0m\u001b[0mrowcount\u001b[0m\u001b[1;33m,\u001b[0m \u001b[1;34m\"record inserted.\"\u001b[0m\u001b[1;33m)\u001b[0m\u001b[1;33m\u001b[0m\u001b[0m\n",
      "\u001b[1;32m~\\AppData\\Local\\Continuum\\anaconda3\\lib\\site-packages\\mysql\\connector\\cursor_cext.py\u001b[0m in \u001b[0;36mexecute\u001b[1;34m(self, operation, params, multi)\u001b[0m\n\u001b[0;32m    264\u001b[0m             result = self._cnx.cmd_query(stmt, raw=self._raw,\n\u001b[0;32m    265\u001b[0m                                          \u001b[0mbuffered\u001b[0m\u001b[1;33m=\u001b[0m\u001b[0mself\u001b[0m\u001b[1;33m.\u001b[0m\u001b[0m_buffered\u001b[0m\u001b[1;33m,\u001b[0m\u001b[1;33m\u001b[0m\u001b[0m\n\u001b[1;32m--> 266\u001b[1;33m                                          raw_as_string=self._raw_as_string)\n\u001b[0m\u001b[0;32m    267\u001b[0m         \u001b[1;32mexcept\u001b[0m \u001b[0mMySQLInterfaceError\u001b[0m \u001b[1;32mas\u001b[0m \u001b[0mexc\u001b[0m\u001b[1;33m:\u001b[0m\u001b[1;33m\u001b[0m\u001b[0m\n\u001b[0;32m    268\u001b[0m             raise errors.get_mysql_exception(msg=exc.msg, errno=exc.errno,\n",
      "\u001b[1;32m~\\AppData\\Local\\Continuum\\anaconda3\\lib\\site-packages\\mysql\\connector\\connection_cext.py\u001b[0m in \u001b[0;36mcmd_query\u001b[1;34m(self, query, raw, buffered, raw_as_string)\u001b[0m\n\u001b[0;32m    490\u001b[0m         \u001b[1;32mexcept\u001b[0m \u001b[0mMySQLInterfaceError\u001b[0m \u001b[1;32mas\u001b[0m \u001b[0mexc\u001b[0m\u001b[1;33m:\u001b[0m\u001b[1;33m\u001b[0m\u001b[0m\n\u001b[0;32m    491\u001b[0m             raise errors.get_mysql_exception(exc.errno, msg=exc.msg,\n\u001b[1;32m--> 492\u001b[1;33m                                              sqlstate=exc.sqlstate)\n\u001b[0m\u001b[0;32m    493\u001b[0m         \u001b[1;32mexcept\u001b[0m \u001b[0mAttributeError\u001b[0m\u001b[1;33m:\u001b[0m\u001b[1;33m\u001b[0m\u001b[0m\n\u001b[0;32m    494\u001b[0m             \u001b[1;32mif\u001b[0m \u001b[0mself\u001b[0m\u001b[1;33m.\u001b[0m\u001b[0m_unix_socket\u001b[0m\u001b[1;33m:\u001b[0m\u001b[1;33m\u001b[0m\u001b[0m\n",
      "\u001b[1;31mDataError\u001b[0m: 1292 (22007): Incorrect datetime value: '14 Oct 20 | 04:00 PM' for column 'updatedOn' at row 1"
     ]
    }
   ],
   "source": [
    "    print('-----------------------------')\n",
    "    val = (companyName,currentValue,  change, pChange, updatedOn, securityID, scripCode, group, faceValue, industry,  previousClose,  previousOpen,   dayHigh,  dayLow,  weekHigh52,   weekLow52,  weightedAvgPrice,  totalTradedValue, totalTradedQuantity, WeekAvgQuantity2,  marketCapFull,  marketCapFreeFloat)\n",
    "    mycursor.execute(sql, val)\n",
    "    mydb.commit()\n",
    "    print(mycursor.rowcount, \"record inserted.\")\n",
    "    "
   ]
  },
  {
   "cell_type": "markdown",
   "metadata": {},
   "source": [
    "## Getting top losers"
   ]
  },
  {
   "cell_type": "code",
   "execution_count": 38,
   "metadata": {},
   "outputs": [
    {
     "name": "stdout",
     "output_type": "stream",
     "text": [
      "[   {   'LTP': '96.95',\n",
      "        'change': '-25.15',\n",
      "        'pChange': '-20.60',\n",
      "        'scripCode': '500295',\n",
      "        'securityID': 'VEDL'},\n",
      "    {   'LTP': '74.10',\n",
      "        'change': '-8.20',\n",
      "        'pChange': '-9.96',\n",
      "        'scripCode': '536507',\n",
      "        'securityID': 'FLFL'},\n",
      "    {   'LTP': '71.45',\n",
      "        'change': '-6.80',\n",
      "        'pChange': '-8.69',\n",
      "        'scripCode': '540064',\n",
      "        'securityID': 'FRETAIL'},\n",
      "    {   'LTP': '497.75',\n",
      "        'change': '-47.05',\n",
      "        'pChange': '-8.64',\n",
      "        'scripCode': '530549',\n",
      "        'securityID': 'SHILPAMED'},\n",
      "    {   'LTP': '107.00',\n",
      "        'change': '-7.00',\n",
      "        'pChange': '-6.14',\n",
      "        'scripCode': '532144',\n",
      "        'securityID': 'WELCORP'}]\n"
     ]
    }
   ],
   "source": [
    "tg = b.topLosers()\n",
    "pp.pprint(tg)"
   ]
  },
  {
   "cell_type": "code",
   "execution_count": 47,
   "metadata": {},
   "outputs": [
    {
     "name": "stdout",
     "output_type": "stream",
     "text": [
      "'96.95'\n"
     ]
    }
   ],
   "source": [
    "quote = tg[0]\n",
    "#print(type(quote))    \n",
    "pp.pprint(quote[\"LTP\"])"
   ]
  },
  {
   "cell_type": "code",
   "execution_count": 37,
   "metadata": {},
   "outputs": [
    {
     "name": "stdout",
     "output_type": "stream",
     "text": [
      "(1, 'ABC', '120', None)\n"
     ]
    }
   ],
   "source": [
    "import MySQLdb\n",
    "db = MySQLdb.connect(host='localhost',    \n",
    "                     user='root',         \n",
    "                     passwd='abc123',  \n",
    "                     db='stockdb')        \n",
    "\n",
    "cur = db.cursor()\n",
    "\n",
    "cur.execute('SELECT * FROM stock')\n",
    "\n",
    "for row in cur.fetchall():\n",
    "    print (row)\n",
    "\n",
    "db.close()"
   ]
  },
  {
   "cell_type": "code",
   "execution_count": 82,
   "metadata": {},
   "outputs": [
    {
     "data": {
      "text/plain": [
       "'E:\\\\MyWork\\\\ML\\\\WorkSpace'"
      ]
     },
     "execution_count": 82,
     "metadata": {},
     "output_type": "execute_result"
    }
   ],
   "source": [
    "pwd"
   ]
  },
  {
   "cell_type": "code",
   "execution_count": 24,
   "metadata": {},
   "outputs": [
    {
     "name": "stdout",
     "output_type": "stream",
     "text": [
      "# 2020-10-14 #\n"
     ]
    }
   ],
   "source": [
    "import datetime\n",
    "str = '14 Oct 20 | 04:00 PM'\n",
    "#datetime.datetime.strptime('20-Nov-2002','%d-%b-%Y').strftime('%Y%m%d')\n",
    "spr = datetime.datetime.strptime('14 Oct 20 | ','%d %b %y | ').strftime('%Y-%m-%d')\n",
    "print('# ' + spr + ' #')"
   ]
  },
  {
   "cell_type": "code",
   "execution_count": null,
   "metadata": {},
   "outputs": [],
   "source": []
  }
 ],
 "metadata": {
  "kernelspec": {
   "display_name": "Python [default]",
   "language": "python",
   "name": "python3"
  },
  "language_info": {
   "codemirror_mode": {
    "name": "ipython",
    "version": 3
   },
   "file_extension": ".py",
   "mimetype": "text/x-python",
   "name": "python",
   "nbconvert_exporter": "python",
   "pygments_lexer": "ipython3",
   "version": "3.6.4"
  }
 },
 "nbformat": 4,
 "nbformat_minor": 2
}
